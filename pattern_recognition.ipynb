{
  "nbformat": 4,
  "nbformat_minor": 0,
  "metadata": {
    "colab": {
      "provenance": [],
      "authorship_tag": "ABX9TyMZy7p9lDkgwV4tx05Erqhh",
      "include_colab_link": true
    },
    "kernelspec": {
      "name": "python3",
      "display_name": "Python 3"
    },
    "language_info": {
      "name": "python"
    }
  },
  "cells": [
    {
      "cell_type": "markdown",
      "metadata": {
        "id": "view-in-github",
        "colab_type": "text"
      },
      "source": [
        "<a href=\"https://colab.research.google.com/github/bariyatlikita/Hamoye/blob/master/pattern_recognition.ipynb\" target=\"_parent\"><img src=\"https://colab.research.google.com/assets/colab-badge.svg\" alt=\"Open In Colab\"/></a>"
      ]
    },
    {
      "cell_type": "markdown",
      "source": [
        "Import Libraries"
      ],
      "metadata": {
        "id": "3w5VlAwA2Nfw"
      }
    },
    {
      "cell_type": "code",
      "source": [
        "import pandas as pd\n",
        "import numpy as np\n",
        "import seaborn as sns\n",
        "import matplotlib.pyplot as plt\n",
        "import seaborn as sns\n",
        "import datetime\n",
        "%matplotlib inline"
      ],
      "metadata": {
        "id": "2-AcM3cw2SXt"
      },
      "execution_count": 1,
      "outputs": []
    },
    {
      "cell_type": "markdown",
      "source": [
        "Load Data"
      ],
      "metadata": {
        "id": "_V7Sr5vQ6PBf"
      }
    },
    {
      "cell_type": "code",
      "source": [
        "filename = '/content/Africa Food Production (2004 - 2013).csv'\n",
        "data = pd.read_csv(filename,\n",
        "                   header=0,\n",
        "                   sep=',',)\n",
        "data"
      ],
      "metadata": {
        "colab": {
          "base_uri": "https://localhost:8080/",
          "height": 424
        },
        "id": "3X0E0-If4E8F",
        "outputId": "729e072a-efff-49dd-9e9b-8b3a62fd57e3"
      },
      "execution_count": 2,
      "outputs": [
        {
          "output_type": "execute_result",
          "data": {
            "text/plain": [
              "        Country                Item  Year  Value\n",
              "0       Algeria  Wheat and products  2004   2731\n",
              "1       Algeria  Wheat and products  2005   2415\n",
              "2       Algeria  Wheat and products  2006   2688\n",
              "3       Algeria  Wheat and products  2007   2319\n",
              "4       Algeria  Wheat and products  2008   1111\n",
              "...         ...                 ...   ...    ...\n",
              "23105  Zimbabwe         Crustaceans  2009      0\n",
              "23106  Zimbabwe         Crustaceans  2010      0\n",
              "23107  Zimbabwe         Crustaceans  2011      0\n",
              "23108  Zimbabwe         Crustaceans  2012      0\n",
              "23109  Zimbabwe         Crustaceans  2013      0\n",
              "\n",
              "[23110 rows x 4 columns]"
            ],
            "text/html": [
              "\n",
              "  <div id=\"df-1e535d92-e819-4780-92f2-baf77b7ca126\">\n",
              "    <div class=\"colab-df-container\">\n",
              "      <div>\n",
              "<style scoped>\n",
              "    .dataframe tbody tr th:only-of-type {\n",
              "        vertical-align: middle;\n",
              "    }\n",
              "\n",
              "    .dataframe tbody tr th {\n",
              "        vertical-align: top;\n",
              "    }\n",
              "\n",
              "    .dataframe thead th {\n",
              "        text-align: right;\n",
              "    }\n",
              "</style>\n",
              "<table border=\"1\" class=\"dataframe\">\n",
              "  <thead>\n",
              "    <tr style=\"text-align: right;\">\n",
              "      <th></th>\n",
              "      <th>Country</th>\n",
              "      <th>Item</th>\n",
              "      <th>Year</th>\n",
              "      <th>Value</th>\n",
              "    </tr>\n",
              "  </thead>\n",
              "  <tbody>\n",
              "    <tr>\n",
              "      <th>0</th>\n",
              "      <td>Algeria</td>\n",
              "      <td>Wheat and products</td>\n",
              "      <td>2004</td>\n",
              "      <td>2731</td>\n",
              "    </tr>\n",
              "    <tr>\n",
              "      <th>1</th>\n",
              "      <td>Algeria</td>\n",
              "      <td>Wheat and products</td>\n",
              "      <td>2005</td>\n",
              "      <td>2415</td>\n",
              "    </tr>\n",
              "    <tr>\n",
              "      <th>2</th>\n",
              "      <td>Algeria</td>\n",
              "      <td>Wheat and products</td>\n",
              "      <td>2006</td>\n",
              "      <td>2688</td>\n",
              "    </tr>\n",
              "    <tr>\n",
              "      <th>3</th>\n",
              "      <td>Algeria</td>\n",
              "      <td>Wheat and products</td>\n",
              "      <td>2007</td>\n",
              "      <td>2319</td>\n",
              "    </tr>\n",
              "    <tr>\n",
              "      <th>4</th>\n",
              "      <td>Algeria</td>\n",
              "      <td>Wheat and products</td>\n",
              "      <td>2008</td>\n",
              "      <td>1111</td>\n",
              "    </tr>\n",
              "    <tr>\n",
              "      <th>...</th>\n",
              "      <td>...</td>\n",
              "      <td>...</td>\n",
              "      <td>...</td>\n",
              "      <td>...</td>\n",
              "    </tr>\n",
              "    <tr>\n",
              "      <th>23105</th>\n",
              "      <td>Zimbabwe</td>\n",
              "      <td>Crustaceans</td>\n",
              "      <td>2009</td>\n",
              "      <td>0</td>\n",
              "    </tr>\n",
              "    <tr>\n",
              "      <th>23106</th>\n",
              "      <td>Zimbabwe</td>\n",
              "      <td>Crustaceans</td>\n",
              "      <td>2010</td>\n",
              "      <td>0</td>\n",
              "    </tr>\n",
              "    <tr>\n",
              "      <th>23107</th>\n",
              "      <td>Zimbabwe</td>\n",
              "      <td>Crustaceans</td>\n",
              "      <td>2011</td>\n",
              "      <td>0</td>\n",
              "    </tr>\n",
              "    <tr>\n",
              "      <th>23108</th>\n",
              "      <td>Zimbabwe</td>\n",
              "      <td>Crustaceans</td>\n",
              "      <td>2012</td>\n",
              "      <td>0</td>\n",
              "    </tr>\n",
              "    <tr>\n",
              "      <th>23109</th>\n",
              "      <td>Zimbabwe</td>\n",
              "      <td>Crustaceans</td>\n",
              "      <td>2013</td>\n",
              "      <td>0</td>\n",
              "    </tr>\n",
              "  </tbody>\n",
              "</table>\n",
              "<p>23110 rows × 4 columns</p>\n",
              "</div>\n",
              "      <button class=\"colab-df-convert\" onclick=\"convertToInteractive('df-1e535d92-e819-4780-92f2-baf77b7ca126')\"\n",
              "              title=\"Convert this dataframe to an interactive table.\"\n",
              "              style=\"display:none;\">\n",
              "        \n",
              "  <svg xmlns=\"http://www.w3.org/2000/svg\" height=\"24px\"viewBox=\"0 0 24 24\"\n",
              "       width=\"24px\">\n",
              "    <path d=\"M0 0h24v24H0V0z\" fill=\"none\"/>\n",
              "    <path d=\"M18.56 5.44l.94 2.06.94-2.06 2.06-.94-2.06-.94-.94-2.06-.94 2.06-2.06.94zm-11 1L8.5 8.5l.94-2.06 2.06-.94-2.06-.94L8.5 2.5l-.94 2.06-2.06.94zm10 10l.94 2.06.94-2.06 2.06-.94-2.06-.94-.94-2.06-.94 2.06-2.06.94z\"/><path d=\"M17.41 7.96l-1.37-1.37c-.4-.4-.92-.59-1.43-.59-.52 0-1.04.2-1.43.59L10.3 9.45l-7.72 7.72c-.78.78-.78 2.05 0 2.83L4 21.41c.39.39.9.59 1.41.59.51 0 1.02-.2 1.41-.59l7.78-7.78 2.81-2.81c.8-.78.8-2.07 0-2.86zM5.41 20L4 18.59l7.72-7.72 1.47 1.35L5.41 20z\"/>\n",
              "  </svg>\n",
              "      </button>\n",
              "      \n",
              "  <style>\n",
              "    .colab-df-container {\n",
              "      display:flex;\n",
              "      flex-wrap:wrap;\n",
              "      gap: 12px;\n",
              "    }\n",
              "\n",
              "    .colab-df-convert {\n",
              "      background-color: #E8F0FE;\n",
              "      border: none;\n",
              "      border-radius: 50%;\n",
              "      cursor: pointer;\n",
              "      display: none;\n",
              "      fill: #1967D2;\n",
              "      height: 32px;\n",
              "      padding: 0 0 0 0;\n",
              "      width: 32px;\n",
              "    }\n",
              "\n",
              "    .colab-df-convert:hover {\n",
              "      background-color: #E2EBFA;\n",
              "      box-shadow: 0px 1px 2px rgba(60, 64, 67, 0.3), 0px 1px 3px 1px rgba(60, 64, 67, 0.15);\n",
              "      fill: #174EA6;\n",
              "    }\n",
              "\n",
              "    [theme=dark] .colab-df-convert {\n",
              "      background-color: #3B4455;\n",
              "      fill: #D2E3FC;\n",
              "    }\n",
              "\n",
              "    [theme=dark] .colab-df-convert:hover {\n",
              "      background-color: #434B5C;\n",
              "      box-shadow: 0px 1px 3px 1px rgba(0, 0, 0, 0.15);\n",
              "      filter: drop-shadow(0px 1px 2px rgba(0, 0, 0, 0.3));\n",
              "      fill: #FFFFFF;\n",
              "    }\n",
              "  </style>\n",
              "\n",
              "      <script>\n",
              "        const buttonEl =\n",
              "          document.querySelector('#df-1e535d92-e819-4780-92f2-baf77b7ca126 button.colab-df-convert');\n",
              "        buttonEl.style.display =\n",
              "          google.colab.kernel.accessAllowed ? 'block' : 'none';\n",
              "\n",
              "        async function convertToInteractive(key) {\n",
              "          const element = document.querySelector('#df-1e535d92-e819-4780-92f2-baf77b7ca126');\n",
              "          const dataTable =\n",
              "            await google.colab.kernel.invokeFunction('convertToInteractive',\n",
              "                                                     [key], {});\n",
              "          if (!dataTable) return;\n",
              "\n",
              "          const docLinkHtml = 'Like what you see? Visit the ' +\n",
              "            '<a target=\"_blank\" href=https://colab.research.google.com/notebooks/data_table.ipynb>data table notebook</a>'\n",
              "            + ' to learn more about interactive tables.';\n",
              "          element.innerHTML = '';\n",
              "          dataTable['output_type'] = 'display_data';\n",
              "          await google.colab.output.renderOutput(dataTable, element);\n",
              "          const docLink = document.createElement('div');\n",
              "          docLink.innerHTML = docLinkHtml;\n",
              "          element.appendChild(docLink);\n",
              "        }\n",
              "      </script>\n",
              "    </div>\n",
              "  </div>\n",
              "  "
            ]
          },
          "metadata": {},
          "execution_count": 2
        }
      ]
    },
    {
      "cell_type": "code",
      "source": [
        "filename2 = '/content/Africa Food Supply (2004 - 2013).csv'\n",
        "data2 = pd.read_csv(filename2,\n",
        "                   header=0,\n",
        "                   sep=',')\n",
        "data2"
      ],
      "metadata": {
        "colab": {
          "base_uri": "https://localhost:8080/",
          "height": 424
        },
        "id": "dZ_olAvPz5f4",
        "outputId": "9f544b52-f585-4aac-a37c-589a1820d80e"
      },
      "execution_count": 3,
      "outputs": [
        {
          "output_type": "execute_result",
          "data": {
            "text/plain": [
              "      Country  Year  Value\n",
              "0     Algeria  2004   2987\n",
              "1     Algeria  2005   2958\n",
              "2     Algeria  2006   3047\n",
              "3     Algeria  2007   3041\n",
              "4     Algeria  2008   3048\n",
              "..        ...   ...    ...\n",
              "445  Zimbabwe  2009   2147\n",
              "446  Zimbabwe  2010   2168\n",
              "447  Zimbabwe  2011   2200\n",
              "448  Zimbabwe  2012   2197\n",
              "449  Zimbabwe  2013   2110\n",
              "\n",
              "[450 rows x 3 columns]"
            ],
            "text/html": [
              "\n",
              "  <div id=\"df-1667c471-5839-453b-8a74-388b1b7a7ed9\">\n",
              "    <div class=\"colab-df-container\">\n",
              "      <div>\n",
              "<style scoped>\n",
              "    .dataframe tbody tr th:only-of-type {\n",
              "        vertical-align: middle;\n",
              "    }\n",
              "\n",
              "    .dataframe tbody tr th {\n",
              "        vertical-align: top;\n",
              "    }\n",
              "\n",
              "    .dataframe thead th {\n",
              "        text-align: right;\n",
              "    }\n",
              "</style>\n",
              "<table border=\"1\" class=\"dataframe\">\n",
              "  <thead>\n",
              "    <tr style=\"text-align: right;\">\n",
              "      <th></th>\n",
              "      <th>Country</th>\n",
              "      <th>Year</th>\n",
              "      <th>Value</th>\n",
              "    </tr>\n",
              "  </thead>\n",
              "  <tbody>\n",
              "    <tr>\n",
              "      <th>0</th>\n",
              "      <td>Algeria</td>\n",
              "      <td>2004</td>\n",
              "      <td>2987</td>\n",
              "    </tr>\n",
              "    <tr>\n",
              "      <th>1</th>\n",
              "      <td>Algeria</td>\n",
              "      <td>2005</td>\n",
              "      <td>2958</td>\n",
              "    </tr>\n",
              "    <tr>\n",
              "      <th>2</th>\n",
              "      <td>Algeria</td>\n",
              "      <td>2006</td>\n",
              "      <td>3047</td>\n",
              "    </tr>\n",
              "    <tr>\n",
              "      <th>3</th>\n",
              "      <td>Algeria</td>\n",
              "      <td>2007</td>\n",
              "      <td>3041</td>\n",
              "    </tr>\n",
              "    <tr>\n",
              "      <th>4</th>\n",
              "      <td>Algeria</td>\n",
              "      <td>2008</td>\n",
              "      <td>3048</td>\n",
              "    </tr>\n",
              "    <tr>\n",
              "      <th>...</th>\n",
              "      <td>...</td>\n",
              "      <td>...</td>\n",
              "      <td>...</td>\n",
              "    </tr>\n",
              "    <tr>\n",
              "      <th>445</th>\n",
              "      <td>Zimbabwe</td>\n",
              "      <td>2009</td>\n",
              "      <td>2147</td>\n",
              "    </tr>\n",
              "    <tr>\n",
              "      <th>446</th>\n",
              "      <td>Zimbabwe</td>\n",
              "      <td>2010</td>\n",
              "      <td>2168</td>\n",
              "    </tr>\n",
              "    <tr>\n",
              "      <th>447</th>\n",
              "      <td>Zimbabwe</td>\n",
              "      <td>2011</td>\n",
              "      <td>2200</td>\n",
              "    </tr>\n",
              "    <tr>\n",
              "      <th>448</th>\n",
              "      <td>Zimbabwe</td>\n",
              "      <td>2012</td>\n",
              "      <td>2197</td>\n",
              "    </tr>\n",
              "    <tr>\n",
              "      <th>449</th>\n",
              "      <td>Zimbabwe</td>\n",
              "      <td>2013</td>\n",
              "      <td>2110</td>\n",
              "    </tr>\n",
              "  </tbody>\n",
              "</table>\n",
              "<p>450 rows × 3 columns</p>\n",
              "</div>\n",
              "      <button class=\"colab-df-convert\" onclick=\"convertToInteractive('df-1667c471-5839-453b-8a74-388b1b7a7ed9')\"\n",
              "              title=\"Convert this dataframe to an interactive table.\"\n",
              "              style=\"display:none;\">\n",
              "        \n",
              "  <svg xmlns=\"http://www.w3.org/2000/svg\" height=\"24px\"viewBox=\"0 0 24 24\"\n",
              "       width=\"24px\">\n",
              "    <path d=\"M0 0h24v24H0V0z\" fill=\"none\"/>\n",
              "    <path d=\"M18.56 5.44l.94 2.06.94-2.06 2.06-.94-2.06-.94-.94-2.06-.94 2.06-2.06.94zm-11 1L8.5 8.5l.94-2.06 2.06-.94-2.06-.94L8.5 2.5l-.94 2.06-2.06.94zm10 10l.94 2.06.94-2.06 2.06-.94-2.06-.94-.94-2.06-.94 2.06-2.06.94z\"/><path d=\"M17.41 7.96l-1.37-1.37c-.4-.4-.92-.59-1.43-.59-.52 0-1.04.2-1.43.59L10.3 9.45l-7.72 7.72c-.78.78-.78 2.05 0 2.83L4 21.41c.39.39.9.59 1.41.59.51 0 1.02-.2 1.41-.59l7.78-7.78 2.81-2.81c.8-.78.8-2.07 0-2.86zM5.41 20L4 18.59l7.72-7.72 1.47 1.35L5.41 20z\"/>\n",
              "  </svg>\n",
              "      </button>\n",
              "      \n",
              "  <style>\n",
              "    .colab-df-container {\n",
              "      display:flex;\n",
              "      flex-wrap:wrap;\n",
              "      gap: 12px;\n",
              "    }\n",
              "\n",
              "    .colab-df-convert {\n",
              "      background-color: #E8F0FE;\n",
              "      border: none;\n",
              "      border-radius: 50%;\n",
              "      cursor: pointer;\n",
              "      display: none;\n",
              "      fill: #1967D2;\n",
              "      height: 32px;\n",
              "      padding: 0 0 0 0;\n",
              "      width: 32px;\n",
              "    }\n",
              "\n",
              "    .colab-df-convert:hover {\n",
              "      background-color: #E2EBFA;\n",
              "      box-shadow: 0px 1px 2px rgba(60, 64, 67, 0.3), 0px 1px 3px 1px rgba(60, 64, 67, 0.15);\n",
              "      fill: #174EA6;\n",
              "    }\n",
              "\n",
              "    [theme=dark] .colab-df-convert {\n",
              "      background-color: #3B4455;\n",
              "      fill: #D2E3FC;\n",
              "    }\n",
              "\n",
              "    [theme=dark] .colab-df-convert:hover {\n",
              "      background-color: #434B5C;\n",
              "      box-shadow: 0px 1px 3px 1px rgba(0, 0, 0, 0.15);\n",
              "      filter: drop-shadow(0px 1px 2px rgba(0, 0, 0, 0.3));\n",
              "      fill: #FFFFFF;\n",
              "    }\n",
              "  </style>\n",
              "\n",
              "      <script>\n",
              "        const buttonEl =\n",
              "          document.querySelector('#df-1667c471-5839-453b-8a74-388b1b7a7ed9 button.colab-df-convert');\n",
              "        buttonEl.style.display =\n",
              "          google.colab.kernel.accessAllowed ? 'block' : 'none';\n",
              "\n",
              "        async function convertToInteractive(key) {\n",
              "          const element = document.querySelector('#df-1667c471-5839-453b-8a74-388b1b7a7ed9');\n",
              "          const dataTable =\n",
              "            await google.colab.kernel.invokeFunction('convertToInteractive',\n",
              "                                                     [key], {});\n",
              "          if (!dataTable) return;\n",
              "\n",
              "          const docLinkHtml = 'Like what you see? Visit the ' +\n",
              "            '<a target=\"_blank\" href=https://colab.research.google.com/notebooks/data_table.ipynb>data table notebook</a>'\n",
              "            + ' to learn more about interactive tables.';\n",
              "          element.innerHTML = '';\n",
              "          dataTable['output_type'] = 'display_data';\n",
              "          await google.colab.output.renderOutput(dataTable, element);\n",
              "          const docLink = document.createElement('div');\n",
              "          docLink.innerHTML = docLinkHtml;\n",
              "          element.appendChild(docLink);\n",
              "        }\n",
              "      </script>\n",
              "    </div>\n",
              "  </div>\n",
              "  "
            ]
          },
          "metadata": {},
          "execution_count": 3
        }
      ]
    },
    {
      "cell_type": "code",
      "source": [
        "df = data.groupby(['Country', 'Year', 'Item'])\n",
        "\n",
        "print(df.head(40))"
      ],
      "metadata": {
        "colab": {
          "base_uri": "https://localhost:8080/"
        },
        "id": "fZKwfXYgUeS0",
        "outputId": "7fc40b3f-5878-4dfc-d7f0-86e74abe2028"
      },
      "execution_count": 4,
      "outputs": [
        {
          "output_type": "stream",
          "name": "stdout",
          "text": [
            "        Country                Item  Year  Value\n",
            "0       Algeria  Wheat and products  2004   2731\n",
            "1       Algeria  Wheat and products  2005   2415\n",
            "2       Algeria  Wheat and products  2006   2688\n",
            "3       Algeria  Wheat and products  2007   2319\n",
            "4       Algeria  Wheat and products  2008   1111\n",
            "...         ...                 ...   ...    ...\n",
            "23105  Zimbabwe         Crustaceans  2009      0\n",
            "23106  Zimbabwe         Crustaceans  2010      0\n",
            "23107  Zimbabwe         Crustaceans  2011      0\n",
            "23108  Zimbabwe         Crustaceans  2012      0\n",
            "23109  Zimbabwe         Crustaceans  2013      0\n",
            "\n",
            "[23110 rows x 4 columns]\n"
          ]
        }
      ]
    },
    {
      "cell_type": "code",
      "source": [
        "df2 = data2.groupby(['Country'])\n",
        "\n",
        "print(df2.head(40))"
      ],
      "metadata": {
        "colab": {
          "base_uri": "https://localhost:8080/"
        },
        "id": "pdiD35Xy0K87",
        "outputId": "ae866601-a404-4502-f5ad-d2a5dab043f1"
      },
      "execution_count": 5,
      "outputs": [
        {
          "output_type": "stream",
          "name": "stdout",
          "text": [
            "      Country  Year  Value\n",
            "0     Algeria  2004   2987\n",
            "1     Algeria  2005   2958\n",
            "2     Algeria  2006   3047\n",
            "3     Algeria  2007   3041\n",
            "4     Algeria  2008   3048\n",
            "..        ...   ...    ...\n",
            "445  Zimbabwe  2009   2147\n",
            "446  Zimbabwe  2010   2168\n",
            "447  Zimbabwe  2011   2200\n",
            "448  Zimbabwe  2012   2197\n",
            "449  Zimbabwe  2013   2110\n",
            "\n",
            "[450 rows x 3 columns]\n"
          ]
        }
      ]
    },
    {
      "cell_type": "code",
      "source": [
        "df = data.groupby(['Country', 'Year']).sum()['Value']\n",
        "\n",
        "print(df.head(40))"
      ],
      "metadata": {
        "colab": {
          "base_uri": "https://localhost:8080/"
        },
        "id": "Ogrf8JvoWqy5",
        "outputId": "5ca8660d-8682-468a-c890-d3eeaab58379"
      },
      "execution_count": 6,
      "outputs": [
        {
          "output_type": "stream",
          "name": "stdout",
          "text": [
            "Country   Year\n",
            "Algeria   2004    15536\n",
            "          2005    15667\n",
            "          2006    16417\n",
            "          2007    14763\n",
            "          2008    13841\n",
            "          2009    19820\n",
            "          2010    20263\n",
            "          2011    21778\n",
            "          2012    24206\n",
            "          2013    26359\n",
            "Angola    2004    13028\n",
            "          2005    13811\n",
            "          2006    14264\n",
            "          2007    16025\n",
            "          2008    17288\n",
            "          2009    22244\n",
            "          2010    23805\n",
            "          2011    25672\n",
            "          2012    20505\n",
            "          2013    28857\n",
            "Benin     2004     7963\n",
            "          2005     7764\n",
            "          2006     7110\n",
            "          2007     7679\n",
            "          2008     8723\n",
            "          2009     9235\n",
            "          2010     9200\n",
            "          2011     9735\n",
            "          2012     9797\n",
            "          2013    10866\n",
            "Botswana  2004      461\n",
            "          2005      460\n",
            "          2006      454\n",
            "          2007      439\n",
            "          2008      470\n",
            "          2009      484\n",
            "          2010      503\n",
            "          2011      539\n",
            "          2012      496\n",
            "          2013      502\n",
            "Name: Value, dtype: int64\n"
          ]
        }
      ]
    },
    {
      "cell_type": "code",
      "source": [
        "df2 = data2.groupby(['Country']).sum()['Value']\n",
        "\n",
        "print(df2.head(20))"
      ],
      "metadata": {
        "colab": {
          "base_uri": "https://localhost:8080/"
        },
        "id": "CrBVhpV56lbp",
        "outputId": "1194e323-5226-40d1-e3da-53ec068afe92"
      },
      "execution_count": 7,
      "outputs": [
        {
          "output_type": "stream",
          "name": "stdout",
          "text": [
            "Country\n",
            "Algeria                     31118\n",
            "Angola                      22556\n",
            "Benin                       25378\n",
            "Botswana                    22263\n",
            "Burkina Faso                26072\n",
            "Cabo Verde                  25514\n",
            "Cameroon                    24603\n",
            "Central African Republic    20719\n",
            "Chad                        20511\n",
            "Congo                       21530\n",
            "Cote d'Ivoire               27666\n",
            "Djibouti                    24165\n",
            "Egypt                       34580\n",
            "Ethiopia                    20292\n",
            "Gabon                       27299\n",
            "Gambia                      25695\n",
            "Ghana                       29180\n",
            "Guinea                      25180\n",
            "Guinea-Bissau               22963\n",
            "Kenya                       21453\n",
            "Name: Value, dtype: int64\n"
          ]
        }
      ]
    },
    {
      "cell_type": "markdown",
      "source": [
        "Data Analysis and Visualisation"
      ],
      "metadata": {
        "id": "bSxSE0Yq68PS"
      }
    },
    {
      "cell_type": "code",
      "source": [
        "df.unstack().plot()\n",
        "plt.xticks(rotation=45)"
      ],
      "metadata": {
        "colab": {
          "base_uri": "https://localhost:8080/",
          "height": 356
        },
        "id": "OdIO44ayxP08",
        "outputId": "1dae7446-5e3e-4306-abc3-838df2cf89cb"
      },
      "execution_count": 8,
      "outputs": [
        {
          "output_type": "execute_result",
          "data": {
            "text/plain": [
              "(array([-10.,   0.,  10.,  20.,  30.,  40.,  50.]),\n",
              " <a list of 7 Text major ticklabel objects>)"
            ]
          },
          "metadata": {},
          "execution_count": 8
        },
        {
          "output_type": "display_data",
          "data": {
            "text/plain": [
              "<Figure size 432x288 with 1 Axes>"
            ],
            "image/png": "[encoded data removed]"
          },
          "metadata": {
            "needs_background": "light"
          }
        }
      ]
    },
    {
      "cell_type": "code",
      "source": [
        "df2.plot()\n",
        "plt.xticks(rotation=45)"
      ],
      "metadata": {
        "colab": {
          "base_uri": "https://localhost:8080/",
          "height": 356
        },
        "id": "Ag-b5ZJnAoLA",
        "outputId": "10c95d70-9131-4dc2-f717-f4b50926d876"
      },
      "execution_count": 9,
      "outputs": [
        {
          "output_type": "execute_result",
          "data": {
            "text/plain": [
              "(array([-10.,   0.,  10.,  20.,  30.,  40.,  50.]),\n",
              " <a list of 7 Text major ticklabel objects>)"
            ]
          },
          "metadata": {},
          "execution_count": 9
        },
        {
          "output_type": "display_data",
          "data": {
            "text/plain": [
              "<Figure size 432x288 with 1 Axes>"
            ],
            "image/png": "[encoded data removed]"
          },
          "metadata": {
            "needs_background": "light"
          }
        }
      ]
    },
    {
      "cell_type": "code",
      "source": [
        "pip install pycountry"
      ],
      "metadata": {
        "colab": {
          "base_uri": "https://localhost:8080/"
        },
        "id": "9w0_yNyOe7FB",
        "outputId": "1d94980a-9dd0-460e-a634-fd697fd64fb5"
      },
      "execution_count": 10,
      "outputs": [
        {
          "output_type": "stream",
          "name": "stdout",
          "text": [
            "Looking in indexes: https://pypi.org/simple, https://us-python.pkg.dev/colab-wheels/public/simple/\n",
            "Requirement already satisfied: pycountry in /usr/local/lib/python3.7/dist-packages (22.3.5)\n",
            "Requirement already satisfied: setuptools in /usr/local/lib/python3.7/dist-packages (from pycountry) (57.4.0)\n"
          ]
        }
      ]
    },
    {
      "cell_type": "code",
      "source": [
        "import plotly.express as px"
      ],
      "metadata": {
        "id": "Ck184rC_BEWF"
      },
      "execution_count": 11,
      "outputs": []
    },
    {
      "cell_type": "code",
      "source": [
        "list_countries = data['Country'].unique().tolist()\n",
        "# print(list_countries) # Uncomment to see list of countries\n",
        "d_country_code = {}  # To hold the country names and their ISO\n",
        "for country in list_countries:\n",
        "    try:\n",
        "        country_data = pycountry.countries.search_fuzzy(country)\n",
        "        # country_data is a list of objects of class pycountry.db.Country\n",
        "        # The first item  ie at index 0 of list is best fit\n",
        "        # object of class Country have an alpha_3 attribute\n",
        "        country_code = country_data[0].alpha_3\n",
        "        d_country_code.update({country: country_code})\n",
        "    except:\n",
        "        print('could not add ISO 3 code for ->', country)\n",
        "        # If could not find country, make ISO code ' '\n",
        "        d_country_code.update({country: ' '})\n",
        "\n",
        "# print(d_country_code) # Uncomment to check dictionary  \n",
        "\n",
        "# create a new column iso_alpha in the df\n",
        "# and fill it with appropriate iso 3 code\n",
        "for k, v in d_country_code.items():\n",
        "    data.loc[(data.Country == k), 'iso_alpha'] = v\n",
        "\n",
        "# print(data.head)  # Uncomment to confirm that ISO codes added\n",
        "# ----------- Step 3 ------------\n",
        "fig = px.choropleth(data_frame = data,\n",
        "                    locations= \"iso_alpha\",\n",
        "                    color= \"Value\",  # value in column 'Value' determines color\n",
        "                    hover_name= \"Country\",\n",
        "                    color_continuous_scale= 'RdYlGn',  #  color scale red, yellow green\n",
        "                    animation_frame= \"Year\")\n"
      ],
      "metadata": {
        "colab": {
          "base_uri": "https://localhost:8080/"
        },
        "id": "8ZbQ-sovBYo7",
        "outputId": "b324282f-0bdb-4154-aff4-55952b8633ec"
      },
      "execution_count": 12,
      "outputs": [
        {
          "output_type": "stream",
          "name": "stdout",
          "text": [
            "could not add ISO 3 code for -> Algeria\n",
            "could not add ISO 3 code for -> Angola\n",
            "could not add ISO 3 code for -> Benin\n",
            "could not add ISO 3 code for -> Botswana\n",
            "could not add ISO 3 code for -> Burkina Faso\n",
            "could not add ISO 3 code for -> Cabo Verde\n",
            "could not add ISO 3 code for -> Cameroon\n",
            "could not add ISO 3 code for -> Central African Republic\n",
            "could not add ISO 3 code for -> Chad\n",
            "could not add ISO 3 code for -> Congo\n",
            "could not add ISO 3 code for -> Cote d'Ivoire\n",
            "could not add ISO 3 code for -> Djibouti\n",
            "could not add ISO 3 code for -> Egypt\n",
            "could not add ISO 3 code for -> Ethiopia\n",
            "could not add ISO 3 code for -> Gabon\n",
            "could not add ISO 3 code for -> Gambia\n",
            "could not add ISO 3 code for -> Ghana\n",
            "could not add ISO 3 code for -> Guinea\n",
            "could not add ISO 3 code for -> Guinea-Bissau\n",
            "could not add ISO 3 code for -> Kenya\n",
            "could not add ISO 3 code for -> Lesotho\n",
            "could not add ISO 3 code for -> Liberia\n",
            "could not add ISO 3 code for -> Madagascar\n",
            "could not add ISO 3 code for -> Malawi\n",
            "could not add ISO 3 code for -> Mali\n",
            "could not add ISO 3 code for -> Mauritania\n",
            "could not add ISO 3 code for -> Mauritius\n",
            "could not add ISO 3 code for -> Morocco\n",
            "could not add ISO 3 code for -> Mozambique\n",
            "could not add ISO 3 code for -> Namibia\n",
            "could not add ISO 3 code for -> Niger\n",
            "could not add ISO 3 code for -> Nigeria\n",
            "could not add ISO 3 code for -> Rwanda\n",
            "could not add ISO 3 code for -> Sao Tome and Principe\n",
            "could not add ISO 3 code for -> Senegal\n",
            "could not add ISO 3 code for -> Sierra Leone\n",
            "could not add ISO 3 code for -> South Africa\n",
            "could not add ISO 3 code for -> Sudan\n",
            "could not add ISO 3 code for -> Switzerland\n",
            "could not add ISO 3 code for -> Togo\n",
            "could not add ISO 3 code for -> Tunisia\n",
            "could not add ISO 3 code for -> Uganda\n",
            "could not add ISO 3 code for -> United Republic of Tanzania\n",
            "could not add ISO 3 code for -> Zambia\n",
            "could not add ISO 3 code for -> Zimbabwe\n"
          ]
        }
      ]
    },
    {
      "cell_type": "code",
      "source": [
        "list_countries = data2['Country'].unique().tolist()\n",
        "# print(list_countries) # Uncomment to see list of countries\n",
        "d_country_code = {}  # To hold the country names and their ISO\n",
        "for country in list_countries:\n",
        "    try:\n",
        "        country_data = pycountry.countries.search_fuzzy(country)\n",
        "        # country_data is a list of objects of class pycountry.db.Country\n",
        "        # The first item  ie at index 0 of list is best fit\n",
        "        # object of class Country have an alpha_3 attribute\n",
        "        country_code = country_data[0].alpha_3\n",
        "        d_country_code.update({country: country_code})\n",
        "    except:\n",
        "        print('could not add ISO 3 code for ->', country)\n",
        "        # If could not find country, make ISO code ' '\n",
        "        d_country_code.update({country: ' '})\n",
        "\n",
        "# print(d_country_code) # Uncomment to check dictionary  \n",
        "\n",
        "# create a new column iso_alpha in the df\n",
        "# and fill it with appropriate iso 3 code\n",
        "for k, v in d_country_code.items():\n",
        "    data2.loc[(data2.Country == k), 'iso_alpha'] = v\n",
        "\n",
        "# print(df2.head)  # Uncomment to confirm that ISO codes added\n",
        "# ----------- Step 3 ------------\n",
        "fig = px.choropleth(data_frame = data2,\n",
        "                    locations= \"iso_alpha\",\n",
        "                    color= \"Value\",  # value in column 'Value' determines color\n",
        "                    hover_name= \"Country\",\n",
        "                    color_continuous_scale= 'RdYlGn',  #  color scale red, yellow green\n",
        "                    animation_frame= \"Year\")\n"
      ],
      "metadata": {
        "colab": {
          "base_uri": "https://localhost:8080/"
        },
        "id": "LA-1ElFOCP_3",
        "outputId": "5e4a7ea6-e8fa-4904-ad3c-e57c43f0aa75"
      },
      "execution_count": 13,
      "outputs": [
        {
          "output_type": "stream",
          "name": "stdout",
          "text": [
            "could not add ISO 3 code for -> Algeria\n",
            "could not add ISO 3 code for -> Angola\n",
            "could not add ISO 3 code for -> Benin\n",
            "could not add ISO 3 code for -> Botswana\n",
            "could not add ISO 3 code for -> Burkina Faso\n",
            "could not add ISO 3 code for -> Cabo Verde\n",
            "could not add ISO 3 code for -> Cameroon\n",
            "could not add ISO 3 code for -> Central African Republic\n",
            "could not add ISO 3 code for -> Chad\n",
            "could not add ISO 3 code for -> Congo\n",
            "could not add ISO 3 code for -> Cote d'Ivoire\n",
            "could not add ISO 3 code for -> Djibouti\n",
            "could not add ISO 3 code for -> Egypt\n",
            "could not add ISO 3 code for -> Ethiopia\n",
            "could not add ISO 3 code for -> Gabon\n",
            "could not add ISO 3 code for -> Gambia\n",
            "could not add ISO 3 code for -> Ghana\n",
            "could not add ISO 3 code for -> Guinea\n",
            "could not add ISO 3 code for -> Guinea-Bissau\n",
            "could not add ISO 3 code for -> Kenya\n",
            "could not add ISO 3 code for -> Lesotho\n",
            "could not add ISO 3 code for -> Liberia\n",
            "could not add ISO 3 code for -> Madagascar\n",
            "could not add ISO 3 code for -> Malawi\n",
            "could not add ISO 3 code for -> Mali\n",
            "could not add ISO 3 code for -> Mauritania\n",
            "could not add ISO 3 code for -> Mauritius\n",
            "could not add ISO 3 code for -> Morocco\n",
            "could not add ISO 3 code for -> Mozambique\n",
            "could not add ISO 3 code for -> Namibia\n",
            "could not add ISO 3 code for -> Niger\n",
            "could not add ISO 3 code for -> Nigeria\n",
            "could not add ISO 3 code for -> Rwanda\n",
            "could not add ISO 3 code for -> Sao Tome and Principe\n",
            "could not add ISO 3 code for -> Senegal\n",
            "could not add ISO 3 code for -> Sierra Leone\n",
            "could not add ISO 3 code for -> South Africa\n",
            "could not add ISO 3 code for -> Sudan\n",
            "could not add ISO 3 code for -> Switzerland\n",
            "could not add ISO 3 code for -> Togo\n",
            "could not add ISO 3 code for -> Tunisia\n",
            "could not add ISO 3 code for -> Uganda\n",
            "could not add ISO 3 code for -> United Republic of Tanzania\n",
            "could not add ISO 3 code for -> Zambia\n",
            "could not add ISO 3 code for -> Zimbabwe\n"
          ]
        }
      ]
    },
    {
      "cell_type": "code",
      "source": [
        "plt.boxplot(df)"
      ],
      "metadata": {
        "colab": {
          "base_uri": "https://localhost:8080/",
          "height": 404
        },
        "id": "PbwNWQv5_Mc7",
        "outputId": "e52e6547-2d32-49e9-b662-31ccce7df7d5"
      },
      "execution_count": 14,
      "outputs": [
        {
          "output_type": "execute_result",
          "data": {
            "text/plain": [
              "{'whiskers': [<matplotlib.lines.Line2D at 0x7f0b0917b810>,\n",
              "  <matplotlib.lines.Line2D at 0x7f0b0917bd50>],\n",
              " 'caps': [<matplotlib.lines.Line2D at 0x7f0b091822d0>,\n",
              "  <matplotlib.lines.Line2D at 0x7f0b09182810>],\n",
              " 'boxes': [<matplotlib.lines.Line2D at 0x7f0b0920ee90>],\n",
              " 'medians': [<matplotlib.lines.Line2D at 0x7f0b09182d90>],\n",
              " 'fliers': [<matplotlib.lines.Line2D at 0x7f0b09214390>],\n",
              " 'means': []}"
            ]
          },
          "metadata": {},
          "execution_count": 14
        },
        {
          "output_type": "display_data",
          "data": {
            "text/plain": [
              "<Figure size 432x288 with 1 Axes>"
            ],
            "image/png": "[encoded data removed]"
          },
          "metadata": {
            "needs_background": "light"
          }
        }
      ]
    },
    {
      "cell_type": "code",
      "source": [
        "plt.boxplot(df2)"
      ],
      "metadata": {
        "colab": {
          "base_uri": "https://localhost:8080/",
          "height": 404
        },
        "id": "bbSzmY7x_Rq8",
        "outputId": "abf7cb4a-d46c-4318-cc8d-b1a402267f7b"
      },
      "execution_count": 15,
      "outputs": [
        {
          "output_type": "execute_result",
          "data": {
            "text/plain": [
              "{'whiskers': [<matplotlib.lines.Line2D at 0x7f0b090e7350>,\n",
              "  <matplotlib.lines.Line2D at 0x7f0b090e7890>],\n",
              " 'caps': [<matplotlib.lines.Line2D at 0x7f0b090e7dd0>,\n",
              "  <matplotlib.lines.Line2D at 0x7f0b090ed350>],\n",
              " 'boxes': [<matplotlib.lines.Line2D at 0x7f0b091469d0>],\n",
              " 'medians': [<matplotlib.lines.Line2D at 0x7f0b090ed8d0>],\n",
              " 'fliers': [<matplotlib.lines.Line2D at 0x7f0b090ede10>],\n",
              " 'means': []}"
            ]
          },
          "metadata": {},
          "execution_count": 15
        },
        {
          "output_type": "display_data",
          "data": {
            "text/plain": [
              "<Figure size 432x288 with 1 Axes>"
            ],
            "image/png": "[encoded data removed]"
          },
          "metadata": {
            "needs_background": "light"
          }
        }
      ]
    }
  ]
}