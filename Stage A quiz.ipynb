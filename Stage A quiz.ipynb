{
 "cells": [
  {
   "cell_type": "code",
   "execution_count": 1,
   "id": "19b232b7",
   "metadata": {},
   "outputs": [
    {
     "name": "stdout",
     "output_type": "stream",
     "text": [
      "   Area Code     Area  Item Code         Item  Element Code  \\\n",
      "0          4  Algeria       2501   Population           511   \n",
      "1          4  Algeria       2501   Population          5301   \n",
      "2          4  Algeria       2901  Grand Total           664   \n",
      "3          4  Algeria       2901  Grand Total           674   \n",
      "4          4  Algeria       2901  Grand Total           684   \n",
      "\n",
      "                                  Element             Unit     Y2014  \\\n",
      "0           Total Population - Both sexes     1000 persons  38924.00   \n",
      "1                Domestic supply quantity      1000 tonnes      0.00   \n",
      "2           Food supply (kcal/capita/day)  kcal/capita/day   3377.00   \n",
      "3  Protein supply quantity (g/capita/day)     g/capita/day     94.90   \n",
      "4      Fat supply quantity (g/capita/day)     g/capita/day     80.06   \n",
      "\n",
      "      Y2015     Y2016     Y2017     Y2018  \n",
      "0  39728.00  40551.00  41389.00  42228.00  \n",
      "1      0.00      0.00      0.00      0.00  \n",
      "2   3379.00   3372.00   3341.00   3322.00  \n",
      "3     94.35     94.72     92.82     91.83  \n",
      "4     79.36     77.40     80.19     77.28  \n"
     ]
    }
   ],
   "source": [
    "import pandas as pd\n",
    "\n",
    "df = pd.read_csv('FoodBalanceSheets_E_Africa_NOFLAG.csv')\n",
    "\n",
    "print(df.head()) "
   ]
  },
  {
   "cell_type": "code",
   "execution_count": 2,
   "id": "4782f589",
   "metadata": {},
   "outputs": [
    {
     "name": "stdout",
     "output_type": "stream",
     "text": [
      "Item\n",
      "Alcohol, Non-Food            2403.00\n",
      "Alcoholic Beverages        102410.11\n",
      "Animal Products             11935.65\n",
      "Animal fats                209460.54\n",
      "Apples and products          9499.23\n",
      "Aquatic Animals, Others        14.55\n",
      "Aquatic Plants                507.29\n",
      "Aquatic Products, Other       519.62\n",
      "Bananas                     53267.31\n",
      "Barley and products         25384.66\n",
      "Name: Y2014, dtype: float64\n",
      "Item\n",
      "Alcohol, Non-Food            2348.00\n",
      "Alcoholic Beverages         95581.06\n",
      "Animal Products             11547.65\n",
      "Animal fats                269617.53\n",
      "Apples and products         10198.90\n",
      "Aquatic Animals, Others         5.92\n",
      "Aquatic Plants                452.02\n",
      "Aquatic Products, Other       456.65\n",
      "Bananas                     53008.82\n",
      "Barley and products         26176.98\n",
      "Name: Y2017, dtype: float64\n"
     ]
    }
   ],
   "source": [
    "animal_fat_2014 = df.groupby('Item')['Y2014'].sum()\n",
    "animal_fat_2017 = df.groupby('Item')['Y2017'].sum()\n",
    "print(animal_fat_2014.head(10))\n",
    "print(animal_fat_2017.head(10))"
   ]
  },
  {
   "cell_type": "code",
   "execution_count": 3,
   "id": "4cfbe95c",
   "metadata": {},
   "outputs": [
    {
     "name": "stdout",
     "output_type": "stream",
     "text": [
      "135.23596649549236\n",
      "1603.4039839423301\n"
     ]
    }
   ],
   "source": [
    "print(df['Y2015'].mean())\n",
    "print(df['Y2015'].std())"
   ]
  },
  {
   "cell_type": "code",
   "execution_count": 4,
   "id": "9fe5f4b6",
   "metadata": {},
   "outputs": [],
   "source": [
    "missing = df['Y2016'].isna().sum()\n",
    "percent_missing = (df['Y2016'].isna().sum() / df['Y2016'].sum()) * 100"
   ]
  },
  {
   "cell_type": "code",
   "execution_count": 5,
   "id": "39c60831",
   "metadata": {},
   "outputs": [
    {
     "name": "stdout",
     "output_type": "stream",
     "text": [
      "                        Area Code  Item Code     Y2014     Y2015     Y2016  \\\n",
      "Element Code                                                                 \n",
      "511          Area Code   1.000000        NaN  0.149348  0.149792  0.150292   \n",
      "             Item Code        NaN        NaN       NaN       NaN       NaN   \n",
      "             Y2014       0.149348        NaN  1.000000  0.999988  0.999951   \n",
      "             Y2015       0.149792        NaN  0.999988  1.000000  0.999987   \n",
      "             Y2016       0.150292        NaN  0.999951  0.999987  1.000000   \n",
      "...                           ...        ...       ...       ...       ...   \n",
      "5911         Y2014       0.005901   0.056301  1.000000  0.976942  0.992694   \n",
      "             Y2015       0.007883   0.050526  0.976942  1.000000  0.965195   \n",
      "             Y2016       0.006203   0.062306  0.992694  0.965195  1.000000   \n",
      "             Y2017       0.005156   0.063080  0.941934  0.863665  0.963790   \n",
      "             Y2018       0.004272   0.063211  0.942024  0.863140  0.963378   \n",
      "\n",
      "                           Y2017     Y2018  \n",
      "Element Code                                \n",
      "511          Area Code  0.150840  0.151415  \n",
      "             Item Code       NaN       NaN  \n",
      "             Y2014      0.999885  0.999791  \n",
      "             Y2015      0.999947  0.999878  \n",
      "             Y2016      0.999986  0.999944  \n",
      "...                          ...       ...  \n",
      "5911         Y2014      0.941934  0.942024  \n",
      "             Y2015      0.863665  0.863140  \n",
      "             Y2016      0.963790  0.963378  \n",
      "             Y2017      1.000000  0.999409  \n",
      "             Y2018      0.999409  1.000000  \n",
      "\n",
      "[126 rows x 7 columns]\n"
     ]
    }
   ],
   "source": [
    "print(df.groupby('Element Code').corr())"
   ]
  },
  {
   "cell_type": "code",
   "execution_count": 6,
   "id": "49db99ca",
   "metadata": {},
   "outputs": [
    {
     "ename": "SyntaxError",
     "evalue": "invalid syntax (1837782147.py, line 1)",
     "output_type": "error",
     "traceback": [
      "\u001b[1;36m  Input \u001b[1;32mIn [6]\u001b[1;36m\u001b[0m\n\u001b[1;33m    highest_import_quantity = df[df['Element'] = 'Import Quantity'].sum()\u001b[0m\n\u001b[1;37m                                               ^\u001b[0m\n\u001b[1;31mSyntaxError\u001b[0m\u001b[1;31m:\u001b[0m invalid syntax\n"
     ]
    }
   ],
   "source": [
    "highest_import_quantity = df[df['Element'] = 'Import Quantity'].sum()"
   ]
  },
  {
   "cell_type": "code",
   "execution_count": 7,
   "id": "c71d839e",
   "metadata": {},
   "outputs": [],
   "source": [
    "sum_of_production = df.groupby('Element')['Y2014'].sum()"
   ]
  },
  {
   "cell_type": "code",
   "execution_count": 8,
   "id": "5023081d",
   "metadata": {},
   "outputs": [],
   "source": [
    "highest_sum = df.groupby('Element')['Y2018'].sum()"
   ]
  },
  {
   "cell_type": "code",
   "execution_count": 9,
   "id": "472c7038",
   "metadata": {},
   "outputs": [],
   "source": [
    "lowest_sum_2018 = df.groupby('Element')['Y2018'].sum()"
   ]
  },
  {
   "cell_type": "code",
   "execution_count": 10,
   "id": "fa9a62af",
   "metadata": {},
   "outputs": [
    {
     "data": {
      "text/plain": [
       "49"
      ]
     },
     "execution_count": 10,
     "metadata": {},
     "output_type": "execute_result"
    }
   ],
   "source": [
    "df['Area'].nunique()"
   ]
  },
  {
   "cell_type": "code",
   "execution_count": null,
   "id": "c1c6f46d",
   "metadata": {},
   "outputs": [],
   "source": []
  },
  {
   "cell_type": "code",
   "execution_count": null,
   "id": "3fcdee22",
   "metadata": {},
   "outputs": [],
   "source": []
  }
 ],
 "metadata": {
  "kernelspec": {
   "display_name": "Python 3 (ipykernel)",
   "language": "python",
   "name": "python3"
  },
  "language_info": {
   "codemirror_mode": {
    "name": "ipython",
    "version": 3
   },
   "file_extension": ".py",
   "mimetype": "text/x-python",
   "name": "python",
   "nbconvert_exporter": "python",
   "pygments_lexer": "ipython3",
   "version": "3.9.12"
  }
 },
 "nbformat": 4,
 "nbformat_minor": 5
}
